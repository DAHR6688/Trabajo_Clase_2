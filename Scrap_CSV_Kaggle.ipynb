{
 "cells": [
  {
   "cell_type": "code",
   "execution_count": null,
   "metadata": {},
   "outputs": [],
   "source": [
    "!pip install pandas"
   ]
  },
  {
   "cell_type": "code",
   "execution_count": 5,
   "metadata": {},
   "outputs": [],
   "source": [
    "import pandas as pd\n",
    "df = pd.read_csv('./Android_Malware.csv')"
   ]
  },
  {
   "cell_type": "code",
   "execution_count": 6,
   "metadata": {},
   "outputs": [
    {
     "name": "stdout",
     "output_type": "stream",
     "text": [
      "Primeras 10 filas y 5 columnas seleccionadas:\n",
      "   Unnamed: 0                                Flow ID    Source IP  \\\n",
      "0           0  172.217.6.202-10.42.0.211-443-50004-6  10.42.0.211   \n",
      "1           1  172.217.6.202-10.42.0.211-443-35455-6  10.42.0.211   \n",
      "2           2  131.253.61.68-10.42.0.211-443-51775-6  10.42.0.211   \n",
      "3           3  131.253.61.68-10.42.0.211-443-51775-6  10.42.0.211   \n",
      "4           4  131.253.61.68-10.42.0.211-443-51776-6  10.42.0.211   \n",
      "5           5  10.42.0.211-23.208.43.179-50186-443-6  10.42.0.211   \n",
      "6           6  10.42.0.211-23.208.43.179-50186-443-6  10.42.0.211   \n",
      "7           7  172.217.3.110-10.42.0.211-443-40087-6  10.42.0.211   \n",
      "8           8  172.217.3.110-10.42.0.211-443-52564-6  10.42.0.211   \n",
      "9           9     10.42.0.211-31.13.71.3-46130-443-6  10.42.0.211   \n",
      "\n",
      "    Source Port  Destination IP  \n",
      "0         50004   172.217.6.202  \n",
      "1         35455   172.217.6.202  \n",
      "2         51775   131.253.61.68  \n",
      "3         51775   131.253.61.68  \n",
      "4         51776   131.253.61.68  \n",
      "5         50186   23.208.43.179  \n",
      "6         50186   23.208.43.179  \n",
      "7         40087   172.217.3.110  \n",
      "8         52564   172.217.3.110  \n",
      "9         46130      31.13.71.3  \n"
     ]
    }
   ],
   "source": [
    "df_selected = df.iloc[:10, :5]\n",
    "print(\"Primeras 10 filas y 5 columnas seleccionadas:\")\n",
    "print(df_selected)"
   ]
  },
  {
   "cell_type": "code",
   "execution_count": 3,
   "metadata": {},
   "outputs": [
    {
     "name": "stdout",
     "output_type": "stream",
     "text": [
      "\n",
      "Valores nulos por columna:\n",
      "Unnamed: 0         0\n",
      "Flow ID            0\n",
      " Source IP         0\n",
      " Source Port       0\n",
      " Destination IP    0\n",
      "dtype: int64\n"
     ]
    }
   ],
   "source": [
    "null_values = df_selected.isnull().sum()\n",
    "print(\"\\nValores nulos por columna:\")\n",
    "print(null_values)"
   ]
  },
  {
   "cell_type": "code",
   "execution_count": 4,
   "metadata": {},
   "outputs": [
    {
     "name": "stdout",
     "output_type": "stream",
     "text": [
      "\n",
      "Tipos de datos de cada columna:\n",
      "Unnamed: 0          int64\n",
      "Flow ID            object\n",
      " Source IP         object\n",
      " Source Port        int64\n",
      " Destination IP    object\n",
      "dtype: object\n"
     ]
    }
   ],
   "source": [
    "column_types = df_selected.dtypes\n",
    "print(\"\\nTipos de datos de cada columna:\")\n",
    "print(column_types)"
   ]
  },
  {
   "cell_type": "code",
   "execution_count": 12,
   "metadata": {},
   "outputs": [],
   "source": [
    "import psycopg2\n",
    "import json\n",
    "from datetime import datetime\n",
    "\n",
    "# Paso 1: Crear la base de datos y la tabla desde Python\n",
    "def create_database_and_table():\n",
    "    try:\n",
    "        # Conexión al servidor PostgreSQL (sin especificar una base de datos)\n",
    "        conn = psycopg2.connect(\n",
    "            user=\"postgres\",  # Usuario predeterminado\n",
    "            password=\"postgres\",\n",
    "            host=\"localhost\",\n",
    "            port=\"5432\"\n",
    "        )\n",
    "        conn.autocommit = True  # Necesario para crear una base de datos\n",
    "        cursor = conn.cursor()\n",
    "\n",
    "        # Crear la base de datos \"Data_Malware\" si no existe\n",
    "        cursor.execute(\"SELECT datname FROM pg_database WHERE datname='Data_Malware';\")\n",
    "        if not cursor.fetchone():\n",
    "            cursor.execute(\"CREATE DATABASE Data_Malware;\")\n",
    "            conn.commit()\n",
    "            print(\"Base de datos 'Data_Malware' creada correctamente.\")\n",
    "        else:\n",
    "            print(\"La base de datos 'Data_Malware' ya existe.\")\n",
    "\n",
    "        # Cerrar la conexión inicial\n",
    "        cursor.close()\n",
    "        conn.close()\n",
    "\n",
    "        # Conectar a la nueva base de datos\n",
    "        conn = psycopg2.connect(\n",
    "            database=\"Data_Malware\",\n",
    "            user=\"postgres\",\n",
    "            password=\"postgres\",\n",
    "            host=\"localhost\",\n",
    "            port=\"5432\"\n",
    "        )\n",
    "        cursor = conn.cursor()\n",
    "\n",
    "        # Crear la tabla \"Tarea_malware\" si no existe\n",
    "        cursor.execute(\"\"\"\n",
    "        CREATE TABLE IF NOT EXISTS Tarea_malware (\n",
    "            id SERIAL PRIMARY KEY,\n",
    "            timestamp TIMESTAMP NOT NULL,\n",
    "            ip_address VARCHAR(15),\n",
    "            event_type VARCHAR(50),\n",
    "            description TEXT\n",
    "        );\n",
    "        \"\"\")\n",
    "        print(\"Tabla 'Tarea_malware' creada correctamente.\")\n",
    "\n",
    "        # Confirmar cambios y cerrar la conexión\n",
    "        conn.commit()\n",
    "        cursor.close()\n",
    "        conn.close()\n",
    "\n",
    "    except Exception as e:\n",
    "        print(f\"Error al crear la base de datos o la tabla: {e}\")\n",
    "\n",
    "# "
   ]
  },
  {
   "cell_type": "code",
   "execution_count": 13,
   "metadata": {},
   "outputs": [
    {
     "name": "stdout",
     "output_type": "stream",
     "text": [
      "Error al crear la base de datos o la tabla: database \"data_malware\" already exists\n",
      "\n",
      "Error al insertar datos estructurados: FATAL:  database \"Data_Malware\" does not exist\n",
      "\n"
     ]
    }
   ],
   "source": [
    "#Insertar datos en la tabla\n",
    "def insert_Tarea_malware():\n",
    "    try:\n",
    "        # Conectar a la base de datos\n",
    "        conn = psycopg2.connect(\n",
    "            database=\"Data_Malware\",\n",
    "            user=\"postgres\",\n",
    "            password=\"postgres\",\n",
    "            host=\"localhost\",\n",
    "            port=\"5432\"\n",
    "        )\n",
    "        cursor = conn.cursor()\n",
    "\n",
    "        # Datos para insertar\n",
    "        df = pd.read_csv('./Android_Malware.csv')\n",
    "        df_selected = df.iloc[:10, :5]\n",
    "\n",
    "        # Insertar registros en la tabla\n",
    "        cursor.executemany(\"\"\"\n",
    "        INSERT INTO {table} (column1, column2, column3, column4, column5)\n",
    "        VALUES (%s, %s, %s, %s, %s)\n",
    "        \"\"\").format(table=sql.Identifier(Tarea_malware))\n",
    "\n",
    "        # Confirmar cambios y cerrar la conexión\n",
    "        conn.commit()\n",
    "        print(\"Datos insertados correctamente.\")\n",
    "        cursor.close()\n",
    "        conn.close()\n",
    "\n",
    "    except Exception as e:\n",
    "        print(f\"Error al insertar datos estructurados: {e}\")\n",
    "\n",
    "# Ejecutar todas las funciones\n",
    "if __name__ == \"__main__\":\n",
    "    create_database_and_table()  # Crear base de datos y tabla\n",
    "    insert_Tarea_malware()     # Insertar datos estructurados"
   ]
  }
 ],
 "metadata": {
  "kernelspec": {
   "display_name": "Python 3",
   "language": "python",
   "name": "python3"
  },
  "language_info": {
   "codemirror_mode": {
    "name": "ipython",
    "version": 3
   },
   "file_extension": ".py",
   "mimetype": "text/x-python",
   "name": "python",
   "nbconvert_exporter": "python",
   "pygments_lexer": "ipython3",
   "version": "3.11.11"
  }
 },
 "nbformat": 4,
 "nbformat_minor": 2
}
